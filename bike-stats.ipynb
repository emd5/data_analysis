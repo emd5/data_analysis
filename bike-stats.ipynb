{
 "cells": [
  {
   "cell_type": "markdown",
   "metadata": {},
   "source": [
    "# Bike stats "
   ]
  },
  {
   "cell_type": "code",
   "execution_count": 1,
   "metadata": {},
   "outputs": [],
   "source": [
    "import pandas as pd\n",
    "import numpy as np\n",
    "import csv"
   ]
  },
  {
   "cell_type": "code",
   "execution_count": 2,
   "metadata": {
    "scrolled": false
   },
   "outputs": [
    {
     "name": "stderr",
     "output_type": "stream",
     "text": [
      "b'Skipping line 50794: expected 12 fields, saw 20\\n'\n"
     ]
    }
   ],
   "source": [
    "df = pd.read_csv('./trip.csv', error_bad_lines=False)"
   ]
  },
  {
   "cell_type": "code",
   "execution_count": 4,
   "metadata": {},
   "outputs": [
    {
     "data": {
      "text/html": [
       "<div>\n",
       "<style scoped>\n",
       "    .dataframe tbody tr th:only-of-type {\n",
       "        vertical-align: middle;\n",
       "    }\n",
       "\n",
       "    .dataframe tbody tr th {\n",
       "        vertical-align: top;\n",
       "    }\n",
       "\n",
       "    .dataframe thead th {\n",
       "        text-align: right;\n",
       "    }\n",
       "</style>\n",
       "<table border=\"1\" class=\"dataframe\">\n",
       "  <thead>\n",
       "    <tr style=\"text-align: right;\">\n",
       "      <th></th>\n",
       "      <th>trip_id</th>\n",
       "      <th>starttime</th>\n",
       "      <th>stoptime</th>\n",
       "      <th>bikeid</th>\n",
       "      <th>tripduration</th>\n",
       "      <th>from_station_name</th>\n",
       "      <th>to_station_name</th>\n",
       "      <th>from_station_id</th>\n",
       "      <th>to_station_id</th>\n",
       "      <th>usertype</th>\n",
       "      <th>gender</th>\n",
       "      <th>birthyear</th>\n",
       "    </tr>\n",
       "  </thead>\n",
       "  <tbody>\n",
       "    <tr>\n",
       "      <th>0</th>\n",
       "      <td>431</td>\n",
       "      <td>10/13/2014 10:31</td>\n",
       "      <td>10/13/2014 10:48</td>\n",
       "      <td>SEA00298</td>\n",
       "      <td>985.935</td>\n",
       "      <td>2nd Ave &amp; Spring St</td>\n",
       "      <td>Occidental Park / Occidental Ave S &amp; S Washing...</td>\n",
       "      <td>CBD-06</td>\n",
       "      <td>PS-04</td>\n",
       "      <td>Member</td>\n",
       "      <td>Male</td>\n",
       "      <td>1960.0</td>\n",
       "    </tr>\n",
       "    <tr>\n",
       "      <th>1</th>\n",
       "      <td>432</td>\n",
       "      <td>10/13/2014 10:32</td>\n",
       "      <td>10/13/2014 10:48</td>\n",
       "      <td>SEA00195</td>\n",
       "      <td>926.375</td>\n",
       "      <td>2nd Ave &amp; Spring St</td>\n",
       "      <td>Occidental Park / Occidental Ave S &amp; S Washing...</td>\n",
       "      <td>CBD-06</td>\n",
       "      <td>PS-04</td>\n",
       "      <td>Member</td>\n",
       "      <td>Male</td>\n",
       "      <td>1970.0</td>\n",
       "    </tr>\n",
       "    <tr>\n",
       "      <th>2</th>\n",
       "      <td>433</td>\n",
       "      <td>10/13/2014 10:33</td>\n",
       "      <td>10/13/2014 10:48</td>\n",
       "      <td>SEA00486</td>\n",
       "      <td>883.831</td>\n",
       "      <td>2nd Ave &amp; Spring St</td>\n",
       "      <td>Occidental Park / Occidental Ave S &amp; S Washing...</td>\n",
       "      <td>CBD-06</td>\n",
       "      <td>PS-04</td>\n",
       "      <td>Member</td>\n",
       "      <td>Female</td>\n",
       "      <td>1988.0</td>\n",
       "    </tr>\n",
       "    <tr>\n",
       "      <th>3</th>\n",
       "      <td>434</td>\n",
       "      <td>10/13/2014 10:34</td>\n",
       "      <td>10/13/2014 10:48</td>\n",
       "      <td>SEA00333</td>\n",
       "      <td>865.937</td>\n",
       "      <td>2nd Ave &amp; Spring St</td>\n",
       "      <td>Occidental Park / Occidental Ave S &amp; S Washing...</td>\n",
       "      <td>CBD-06</td>\n",
       "      <td>PS-04</td>\n",
       "      <td>Member</td>\n",
       "      <td>Female</td>\n",
       "      <td>1977.0</td>\n",
       "    </tr>\n",
       "    <tr>\n",
       "      <th>4</th>\n",
       "      <td>435</td>\n",
       "      <td>10/13/2014 10:34</td>\n",
       "      <td>10/13/2014 10:49</td>\n",
       "      <td>SEA00202</td>\n",
       "      <td>923.923</td>\n",
       "      <td>2nd Ave &amp; Spring St</td>\n",
       "      <td>Occidental Park / Occidental Ave S &amp; S Washing...</td>\n",
       "      <td>CBD-06</td>\n",
       "      <td>PS-04</td>\n",
       "      <td>Member</td>\n",
       "      <td>Male</td>\n",
       "      <td>1971.0</td>\n",
       "    </tr>\n",
       "  </tbody>\n",
       "</table>\n",
       "</div>"
      ],
      "text/plain": [
       "   trip_id         starttime          stoptime    bikeid  tripduration  \\\n",
       "0      431  10/13/2014 10:31  10/13/2014 10:48  SEA00298       985.935   \n",
       "1      432  10/13/2014 10:32  10/13/2014 10:48  SEA00195       926.375   \n",
       "2      433  10/13/2014 10:33  10/13/2014 10:48  SEA00486       883.831   \n",
       "3      434  10/13/2014 10:34  10/13/2014 10:48  SEA00333       865.937   \n",
       "4      435  10/13/2014 10:34  10/13/2014 10:49  SEA00202       923.923   \n",
       "\n",
       "     from_station_name                                    to_station_name  \\\n",
       "0  2nd Ave & Spring St  Occidental Park / Occidental Ave S & S Washing...   \n",
       "1  2nd Ave & Spring St  Occidental Park / Occidental Ave S & S Washing...   \n",
       "2  2nd Ave & Spring St  Occidental Park / Occidental Ave S & S Washing...   \n",
       "3  2nd Ave & Spring St  Occidental Park / Occidental Ave S & S Washing...   \n",
       "4  2nd Ave & Spring St  Occidental Park / Occidental Ave S & S Washing...   \n",
       "\n",
       "  from_station_id to_station_id usertype  gender  birthyear  \n",
       "0          CBD-06         PS-04   Member    Male     1960.0  \n",
       "1          CBD-06         PS-04   Member    Male     1970.0  \n",
       "2          CBD-06         PS-04   Member  Female     1988.0  \n",
       "3          CBD-06         PS-04   Member  Female     1977.0  \n",
       "4          CBD-06         PS-04   Member    Male     1971.0  "
      ]
     },
     "execution_count": 4,
     "metadata": {},
     "output_type": "execute_result"
    }
   ],
   "source": [
    "df.head()"
   ]
  },
  {
   "cell_type": "markdown",
   "metadata": {},
   "source": [
    "What is the average trip duration for a borrowed bicycle?"
   ]
  },
  {
   "cell_type": "code",
   "execution_count": 8,
   "metadata": {},
   "outputs": [
    {
     "data": {
      "text/plain": [
       "1178.2956753399776"
      ]
     },
     "execution_count": 8,
     "metadata": {},
     "output_type": "execute_result"
    }
   ],
   "source": [
    "df['tripduration'].mean()"
   ]
  },
  {
   "cell_type": "markdown",
   "metadata": {},
   "source": [
    "What’s the most common age of a bicycle-sharer?"
   ]
  },
  {
   "cell_type": "code",
   "execution_count": 10,
   "metadata": {},
   "outputs": [
    {
     "data": {
      "text/plain": [
       "1987.0    18128\n",
       "1985.0    10665\n",
       "1981.0     9953\n",
       "1982.0     9429\n",
       "1984.0     9113\n",
       "1988.0     8633\n",
       "1986.0     8096\n",
       "1983.0     7832\n",
       "1990.0     7529\n",
       "1989.0     6581\n",
       "Name: birthyear, dtype: int64"
      ]
     },
     "execution_count": 10,
     "metadata": {},
     "output_type": "execute_result"
    }
   ],
   "source": [
    "df['birthyear'].value_counts().head(10)"
   ]
  },
  {
   "cell_type": "markdown",
   "metadata": {},
   "source": [
    "What’s the average number of bikes at a given bike station?"
   ]
  },
  {
   "cell_type": "code",
   "execution_count": 28,
   "metadata": {},
   "outputs": [
    {
     "data": {
      "text/plain": [
       "[                                                          trip_id  \\\n",
       " from_station_name                                                   \n",
       " 12th Ave & E Denny Way                              118261.515768   \n",
       " 12th Ave & E Mercer St                              125499.494780   \n",
       " 12th Ave & E Yesler Way                             162888.019833   \n",
       " 12th Ave & NE Campus Pkwy                           113922.473829   \n",
       " 15th Ave E & E Thomas St                            107942.916146   \n",
       " 15th Ave NE & NE 40th St                            112321.313459   \n",
       " 1st Ave & Marion St                                 104555.992535   \n",
       " 2nd Ave & Blanchard St                              101641.642265   \n",
       " 2nd Ave & Pine St                                   105913.250373   \n",
       " 2nd Ave & Spring St                                  98795.682284   \n",
       " 2nd Ave & Vine St                                   105405.454334   \n",
       " 3rd Ave & Broad St                                  119412.202122   \n",
       " 6th Ave & Blanchard St                              113135.186593   \n",
       " 6th Ave S & S King St                               102106.571952   \n",
       " 7th Ave & Union St                                   90105.917552   \n",
       " 8D OPS 02                                           246672.500000   \n",
       " 9th Ave N & Mercer St                               108215.912420   \n",
       " Bellevue Ave & E Pine St                            126230.788212   \n",
       " Broadway and E Denny Way                            221229.895186   \n",
       " Burke Museum / E Stevens Way NE & Memorial Way NE   106833.846228   \n",
       " Burke-Gilman Trail / NE Blakeley St & 24th Ave NE   126885.146142   \n",
       " Cal Anderson Park / 11th Ave & Pine St              108060.266793   \n",
       " Children's Hospital / Sandpoint Way NE & 40th A...   99820.637296   \n",
       " City Hall / 4th Ave & James St                      103392.023954   \n",
       " Dexter Ave & Denny Way                               87548.741921   \n",
       " Dexter Ave N & Aloha St                             121531.631973   \n",
       " E Blaine St & Fairview Ave E                        118315.154689   \n",
       " E Harrison St & Broadway Ave E                      104037.508351   \n",
       " E Pine St & 16th Ave                                117129.614730   \n",
       " Eastlake Ave E & E Allison St                       115936.717695   \n",
       " ...                                                           ...   \n",
       " Frye Art Museum / Terry Ave & Columbia St            68931.965874   \n",
       " Harvard Ave & E Pine St                             102533.248684   \n",
       " Key Arena / 1st Ave N & Harrison St                 121428.279856   \n",
       " King Street Station Plaza / 2nd Ave Extension S...  119335.924250   \n",
       " Lake Union Park / Valley St & Boren Ave N           121803.643235   \n",
       " Mercer St & 9th Ave N                               203130.798378   \n",
       " NE 42nd St & University Way NE                      113603.482566   \n",
       " NE 47th St & 12th Ave NE                            111420.609785   \n",
       " NE Pacific St/UW Medical Center                     219631.769231   \n",
       " Occidental Park / Occidental Ave S & S Washingt...  109895.289534   \n",
       " PATH / 9th Ave & Westlake Ave                        99915.973217   \n",
       " Pier 66 / Alaskan Way & Bell St                     250127.868750   \n",
       " Pier 69 / Alaskan Way & Clay St                     123779.932511   \n",
       " Pine St & 9th Ave                                    90252.783333   \n",
       " Pronto shop                                          83795.000000   \n",
       " Pronto shop 2                                       210388.500000   \n",
       " REI / Yale Ave N & John St                           93648.332737   \n",
       " Republican St & Westlake Ave N                      100532.967918   \n",
       " Seattle Aquarium / Alaskan Way S & Elliott Bay ...  121589.305333   \n",
       " Seattle University / E Columbia St & 12th Ave       116501.064018   \n",
       " Summit Ave & E Denny Way                            109149.562352   \n",
       " Summit Ave E & E Republican St                      107471.226429   \n",
       " Terry Ave & Stewart St                              165763.095595   \n",
       " Thomas St & 5th Ave N                               241564.929041   \n",
       " UW Engineering Library / E Stevens Way NE & Jef...   90698.026032   \n",
       " UW Intramural Activities Building                   119030.898810   \n",
       " UW Magnuson Health Sciences Center Rotunda / Co...  101357.954220   \n",
       " UW McCarty Hall / Whitman Ct                         49364.416223   \n",
       " Union St & 4th Ave                                  186964.118827   \n",
       " Westlake Ave & 6th Ave                              110712.650991   \n",
       " \n",
       "                                                     tripduration    birthyear  \n",
       " from_station_name                                                              \n",
       " 12th Ave & E Denny Way                                605.285888  1984.263127  \n",
       " 12th Ave & E Mercer St                                817.471440  1981.591903  \n",
       " 12th Ave & E Yesler Way                              1031.012657  1979.467766  \n",
       " 12th Ave & NE Campus Pkwy                            2072.537700  1986.179095  \n",
       " 15th Ave E & E Thomas St                              800.484482  1980.083944  \n",
       " 15th Ave NE & NE 40th St                             1892.249814  1982.037396  \n",
       " 1st Ave & Marion St                                  1375.697333  1971.858341  \n",
       " 2nd Ave & Blanchard St                               1199.735284  1976.512089  \n",
       " 2nd Ave & Pine St                                    1075.676410  1979.269273  \n",
       " 2nd Ave & Spring St                                  1076.019449  1977.414011  \n",
       " 2nd Ave & Vine St                                    1015.407497  1977.082575  \n",
       " 3rd Ave & Broad St                                   1396.320262  1979.821947  \n",
       " 6th Ave & Blanchard St                                902.308044  1980.359735  \n",
       " 6th Ave S & S King St                                1710.177436  1975.785321  \n",
       " 7th Ave & Union St                                   1121.860019  1976.971827  \n",
       " 8D OPS 02                                             133.617500          NaN  \n",
       " 9th Ave N & Mercer St                                 907.798516  1980.725359  \n",
       " Bellevue Ave & E Pine St                              726.930102  1980.469904  \n",
       " Broadway and E Denny Way                              820.759511  1981.664899  \n",
       " Burke Museum / E Stevens Way NE & Memorial Way NE    2130.821712  1984.732571  \n",
       " Burke-Gilman Trail / NE Blakeley St & 24th Ave NE    2368.349638  1982.775367  \n",
       " Cal Anderson Park / 11th Ave & Pine St                776.667534  1980.684132  \n",
       " Children's Hospital / Sandpoint Way NE & 40th A...   2145.665788  1979.386924  \n",
       " City Hall / 4th Ave & James St                       1033.391425  1973.559402  \n",
       " Dexter Ave & Denny Way                               1276.692160  1981.205723  \n",
       " Dexter Ave N & Aloha St                              1119.423156  1980.959674  \n",
       " E Blaine St & Fairview Ave E                         1179.525143  1976.229656  \n",
       " E Harrison St & Broadway Ave E                        836.020249  1981.363366  \n",
       " E Pine St & 16th Ave                                  703.375831  1980.425164  \n",
       " Eastlake Ave E & E Allison St                        1694.383460  1980.979226  \n",
       " ...                                                          ...          ...  \n",
       " Frye Art Museum / Terry Ave & Columbia St             829.278633  1980.371781  \n",
       " Harvard Ave & E Pine St                               824.199673  1981.198892  \n",
       " Key Arena / 1st Ave N & Harrison St                  1358.509737  1979.201491  \n",
       " King Street Station Plaza / 2nd Ave Extension S...   1218.414989  1973.663724  \n",
       " Lake Union Park / Valley St & Boren Ave N            1850.230821  1977.225959  \n",
       " Mercer St & 9th Ave N                                1675.687359  1977.607427  \n",
       " NE 42nd St & University Way NE                       2004.173753  1982.076443  \n",
       " NE 47th St & 12th Ave NE                             1933.986011  1985.878561  \n",
       " NE Pacific St/UW Medical Center                      1345.875172  1982.041979  \n",
       " Occidental Park / Occidental Ave S & S Washingt...   1285.784420  1977.554280  \n",
       " PATH / 9th Ave & Westlake Ave                         786.872270  1981.081216  \n",
       " Pier 66 / Alaskan Way & Bell St                      3104.156637  1971.551724  \n",
       " Pier 69 / Alaskan Way & Clay St                      2086.617697  1973.381907  \n",
       " Pine St & 9th Ave                                     904.665915  1982.384872  \n",
       " Pronto shop                                           398.726000  1993.000000  \n",
       " Pronto shop 2                                          79.007500  1990.500000  \n",
       " REI / Yale Ave N & John St                            845.739891  1980.505187  \n",
       " Republican St & Westlake Ave N                        927.016619  1979.728148  \n",
       " Seattle Aquarium / Alaskan Way S & Elliott Bay ...   2228.295780  1972.216015  \n",
       " Seattle University / E Columbia St & 12th Ave         959.175197  1976.262229  \n",
       " Summit Ave & E Denny Way                              652.193861  1982.599823  \n",
       " Summit Ave E & E Republican St                        761.083289  1981.860151  \n",
       " Terry Ave & Stewart St                                718.480293  1980.281416  \n",
       " Thomas St & 5th Ave N                                1820.622386  1985.120000  \n",
       " UW Engineering Library / E Stevens Way NE & Jef...   1099.817964  1988.279930  \n",
       " UW Intramural Activities Building                    1547.236971  1980.581714  \n",
       " UW Magnuson Health Sciences Center Rotunda / Co...   2010.514092  1981.033626  \n",
       " UW McCarty Hall / Whitman Ct                          629.904790  1991.045455  \n",
       " Union St & 4th Ave                                   1082.267564  1980.635579  \n",
       " Westlake Ave & 6th Ave                                990.081082  1978.036056  \n",
       " \n",
       " [61 rows x 3 columns], 581.8600405679513]"
      ]
     },
     "execution_count": 28,
     "metadata": {},
     "output_type": "execute_result"
    }
   ],
   "source": [
    "station = df.groupby('from_station_name').mean()\n",
    "bikeid = (df['bikeid']).value_counts().mean()\n",
    "list([station, bikeid])"
   ]
  },
  {
   "cell_type": "markdown",
   "metadata": {},
   "source": [
    "When a bike station is modified, is it more likely that it’ll lose bikes or gain bikes? How do you know?"
   ]
  },
  {
   "cell_type": "code",
   "execution_count": null,
   "metadata": {},
   "outputs": [],
   "source": []
  },
  {
   "cell_type": "code",
   "execution_count": null,
   "metadata": {},
   "outputs": [],
   "source": []
  },
  {
   "cell_type": "code",
   "execution_count": null,
   "metadata": {},
   "outputs": [],
   "source": []
  }
 ],
 "metadata": {
  "kernelspec": {
   "display_name": "Python 3",
   "language": "python",
   "name": "python3"
  },
  "language_info": {
   "codemirror_mode": {
    "name": "ipython",
    "version": 3
   },
   "file_extension": ".py",
   "mimetype": "text/x-python",
   "name": "python",
   "nbconvert_exporter": "python",
   "pygments_lexer": "ipython3",
   "version": "3.7.0"
  }
 },
 "nbformat": 4,
 "nbformat_minor": 2
}
